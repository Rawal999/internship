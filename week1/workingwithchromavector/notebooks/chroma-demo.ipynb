{
 "cells": [
  {
   "cell_type": "markdown",
   "id": "e64865cf",
   "metadata": {},
   "source": [
    "### ChromaDB"
   ]
  },
  {
   "cell_type": "markdown",
   "id": "003612bc",
   "metadata": {},
   "source": [
    "ChromaDB is a vector database designed for machine learning applications, particularly those involving embeddings. It allows for efficient storage, retrieval, and management of high-dimensional vectors, making it suitable for tasks like similarity search, recommendation systems, and more."
   ]
  },
  {
   "cell_type": "code",
   "execution_count": 2,
   "id": "7ce71844",
   "metadata": {},
   "outputs": [
    {
     "name": "stdout",
     "output_type": "stream",
     "text": [
      "Note: you may need to restart the kernel to use updated packages.\n"
     ]
    }
   ],
   "source": [
    "pip install chromadb --quiet "
   ]
  },
  {
   "cell_type": "code",
   "execution_count": 3,
   "id": "43ad5f8c",
   "metadata": {},
   "outputs": [],
   "source": [
    "import chromadb\n",
    "\n",
    "chroma_client = chromadb.Client()"
   ]
  },
  {
   "cell_type": "code",
   "execution_count": 4,
   "id": "41d82822",
   "metadata": {},
   "outputs": [],
   "source": [
    "collection = chroma_client.get_or_create_collection(name=\"documents\")"
   ]
  },
  {
   "cell_type": "code",
   "execution_count": 5,
   "id": "95cc1db3",
   "metadata": {},
   "outputs": [],
   "source": [
    "collection.add(\n",
    "    documents=[\"This is a sample document.\", \"Another document for testing.\"],  \n",
    "    ids=[\"doc1\", \"doc2\"],\n",
    ")"
   ]
  },
  {
   "cell_type": "code",
   "execution_count": 6,
   "id": "2561f9fb",
   "metadata": {},
   "outputs": [
    {
     "name": "stdout",
     "output_type": "stream",
     "text": [
      "{'data': None,\n",
      " 'distances': [[1.1787493228912354, 1.5264713764190674]],\n",
      " 'documents': [['This is a sample document.', 'Another document for testing.']],\n",
      " 'embeddings': None,\n",
      " 'ids': [['doc1', 'doc2']],\n",
      " 'included': ['metadatas', 'documents', 'distances'],\n",
      " 'metadatas': [[None, None]],\n",
      " 'uris': None}\n"
     ]
    }
   ],
   "source": [
    "from pprint import pprint\n",
    "results = collection.query(\n",
    "    query_texts=[\"This is a query document about hawaii\"], # Chroma will embed this for you\n",
    "    n_results=2, # how many results to return\n",
    "    where_document= {\"$contains\": \"document\"} # filter results to only those that contain \"pineapple\"  \n",
    ")\n",
    "pprint(results)"
   ]
  },
  {
   "cell_type": "code",
   "execution_count": 7,
   "id": "501aefe1",
   "metadata": {},
   "outputs": [],
   "source": [
    "collection.update(\n",
    "    ids=[\"doc1\"],\n",
    "    documents=[\"This is an updated version of the first document.\"],\n",
    ")"
   ]
  },
  {
   "cell_type": "code",
   "execution_count": 8,
   "id": "c6ca98ca",
   "metadata": {},
   "outputs": [],
   "source": [
    "collection.delete(ids=[\"doc1\"])"
   ]
  },
  {
   "cell_type": "code",
   "execution_count": 10,
   "id": "9a70ab48",
   "metadata": {},
   "outputs": [],
   "source": [
    "collection.add(\n",
    "    ids=[\"doc3\"],\n",
    "    documents=[\"Custom embedded doc\"]\n",
    ")\n"
   ]
  },
  {
   "cell_type": "code",
   "execution_count": 11,
   "id": "cb6e9e17",
   "metadata": {},
   "outputs": [
    {
     "name": "stdout",
     "output_type": "stream",
     "text": [
      "{'data': None,\n",
      " 'distances': [[1.1021239757537842]],\n",
      " 'documents': [['A travel guide to Hawaii.']],\n",
      " 'embeddings': None,\n",
      " 'ids': [['doc4']],\n",
      " 'included': ['metadatas', 'documents', 'distances'],\n",
      " 'metadatas': [[{'category': 'travel', 'region': 'hawaii'}]],\n",
      " 'uris': None}\n"
     ]
    }
   ],
   "source": [
    "collection.add(\n",
    "    ids=[\"doc4\"],\n",
    "    documents=[\"A travel guide to Hawaii.\"],\n",
    "    metadatas=[{\"category\": \"travel\", \"region\": \"hawaii\"}],\n",
    ")\n",
    "\n",
    "# Filter using metadata\n",
    "results = collection.query(\n",
    "    query_texts=[\"beach vacation\"],\n",
    "    n_results=2,\n",
    "    where={\"region\": \"hawaii\"},\n",
    ")\n",
    "pprint(results)\n"
   ]
  },
  {
   "cell_type": "code",
   "execution_count": 12,
   "id": "01c48b36",
   "metadata": {},
   "outputs": [
    {
     "name": "stdout",
     "output_type": "stream",
     "text": [
      "[Collection(name=documents)]\n"
     ]
    }
   ],
   "source": [
    "print(chroma_client.list_collections())"
   ]
  },
  {
   "cell_type": "code",
   "execution_count": 13,
   "id": "cff746dd",
   "metadata": {},
   "outputs": [],
   "source": [
    "chroma_client.delete_collection(\"documents\")"
   ]
  },
  {
   "cell_type": "code",
   "execution_count": null,
   "id": "b52cf65a",
   "metadata": {},
   "outputs": [],
   "source": []
  }
 ],
 "metadata": {
  "kernelspec": {
   "display_name": "base",
   "language": "python",
   "name": "python3"
  },
  "language_info": {
   "codemirror_mode": {
    "name": "ipython",
    "version": 3
   },
   "file_extension": ".py",
   "mimetype": "text/x-python",
   "name": "python",
   "nbconvert_exporter": "python",
   "pygments_lexer": "ipython3",
   "version": "3.12.7"
  }
 },
 "nbformat": 4,
 "nbformat_minor": 5
}
