{
 "cells": [
  {
   "cell_type": "markdown",
   "id": "e64865cf",
   "metadata": {},
   "source": [
    "### ChromaDB"
   ]
  },
  {
   "cell_type": "markdown",
   "id": "003612bc",
   "metadata": {},
   "source": [
    "ChromaDB is a vector database designed for machine learning applications, particularly those involving embeddings. It allows for efficient storage, retrieval, and management of high-dimensional vectors, making it suitable for tasks like similarity search, recommendation systems, and more."
   ]
  },
  {
   "cell_type": "code",
   "execution_count": 18,
   "id": "7ce71844",
   "metadata": {},
   "outputs": [
    {
     "name": "stdout",
     "output_type": "stream",
     "text": [
      "Note: you may need to restart the kernel to use updated packages.\n"
     ]
    }
   ],
   "source": [
    "pip install chromadb --quiet "
   ]
  },
  {
   "cell_type": "code",
   "execution_count": 19,
   "id": "43ad5f8c",
   "metadata": {},
   "outputs": [],
   "source": [
    "import chromadb\n",
    "\n",
    "chroma_client = chromadb.Client()"
   ]
  },
  {
   "cell_type": "code",
   "execution_count": 20,
   "id": "41d82822",
   "metadata": {},
   "outputs": [],
   "source": [
    "collection = chroma_client.get_or_create_collection(name=\"documents\")"
   ]
  },
  {
   "cell_type": "code",
   "execution_count": 21,
   "id": "95cc1db3",
   "metadata": {},
   "outputs": [],
   "source": [
    "collection.add(\n",
    "    documents=[\"This is a sample document.\", \"Another document for testing.\"],  \n",
    "    ids=[\"doc1\", \"doc2\"],\n",
    ")"
   ]
  },
  {
   "cell_type": "code",
   "execution_count": 23,
   "id": "2561f9fb",
   "metadata": {},
   "outputs": [
    {
     "name": "stdout",
     "output_type": "stream",
     "text": [
      "{'data': None,\n",
      " 'distances': [[1.1787493228912354, 1.5264713764190674]],\n",
      " 'documents': [['This is a sample document.', 'Another document for testing.']],\n",
      " 'embeddings': None,\n",
      " 'ids': [['doc1', 'doc2']],\n",
      " 'included': ['metadatas', 'documents', 'distances'],\n",
      " 'metadatas': [[None, None]],\n",
      " 'uris': None}\n"
     ]
    }
   ],
   "source": [
    "from pprint import pprint\n",
    "results = collection.query(\n",
    "    query_texts=[\"This is a query document about hawaii\"], # Chroma will embed this for you\n",
    "    n_results=2, # how many results to return\n",
    "    where_document= {\"$contains\": \"document\"} # filter results to only those that contain \"pineapple\"  \n",
    ")\n",
    "pprint(results)"
   ]
  },
  {
   "cell_type": "code",
   "execution_count": null,
   "id": "501aefe1",
   "metadata": {},
   "outputs": [],
   "source": []
  }
 ],
 "metadata": {
  "kernelspec": {
   "display_name": "base",
   "language": "python",
   "name": "python3"
  },
  "language_info": {
   "codemirror_mode": {
    "name": "ipython",
    "version": 3
   },
   "file_extension": ".py",
   "mimetype": "text/x-python",
   "name": "python",
   "nbconvert_exporter": "python",
   "pygments_lexer": "ipython3",
   "version": "3.12.7"
  }
 },
 "nbformat": 4,
 "nbformat_minor": 5
}
