{
 "cells": [
  {
   "cell_type": "markdown",
   "id": "e3c34db6",
   "metadata": {},
   "source": [
    "# Text Chunking Strategy"
   ]
  },
  {
   "cell_type": "code",
   "execution_count": 1,
   "id": "de6bcd5d",
   "metadata": {},
   "outputs": [],
   "source": [
    "# Sample Text\n",
    "\n",
    "\n",
    "sample_text = '''\n",
    "Artificial Intelligence (AI) is a branch of computer science focused on building smart machines.\n",
    "It has applications in a variety of fields, including healthcare, finance, and transportation.\n",
    "LLMs like GPT-4 are examples of AI systems trained on large datasets.\n",
    "They are capable of understanding and generating human-like language.\n",
    "However, due to memory constraints, text must be split into chunks.\n",
    "This process is known as chunking, and it ensures the model can process all input without being overloaded.\n",
    "Various strategies exist for chunking, including fixed-length, sentence-based, and sliding windows.\n",
    "Choosing the right method depends on your use case.\n",
    "'''"
   ]
  },
  {
   "cell_type": "code",
   "execution_count": null,
   "id": "cd9fa231",
   "metadata": {},
   "outputs": [
    {
     "data": {
      "text/plain": [
       "['Artificial Intelligence (AI) is a branch of computer science focused',\n",
       " 'on building smart machines. It has applications in a variety',\n",
       " 'of fields, including healthcare, finance, and transportation. LLMs like GPT-4',\n",
       " 'are examples of AI systems trained on large datasets. They',\n",
       " 'are capable of understanding and generating human-like language. However, due',\n",
       " 'to memory constraints, text must be split into chunks. This',\n",
       " 'process is known as chunking, and it ensures the model',\n",
       " 'can process all input without being overloaded. Various strategies exist',\n",
       " 'for chunking, including fixed-length, sentence-based, and sliding windows. Choosing the',\n",
       " 'right method depends on your use case.']"
      ]
     },
     "execution_count": 9,
     "metadata": {},
     "output_type": "execute_result"
    }
   ],
   "source": [
    "# fixed-length chunking (word-based)\n",
    "\n",
    "\n",
    "def fixed_length_chunking(text, chunk_size):\n",
    "    \"\"\"Splits text into fixed-length chunks.\"\"\"\n",
    "    words = text.split()\n",
    "    return [' '.join(words[i:i+chunk_size]) for i in range(0, len(words), chunk_size)]\n",
    "\n",
    "fixed_length_chunking(sample_text, chunk_size=10)"
   ]
  },
  {
   "cell_type": "code",
   "execution_count": 16,
   "id": "f1403bd8",
   "metadata": {},
   "outputs": [
    {
     "name": "stdout",
     "output_type": "stream",
     "text": [
      "\n",
      "--- Sentence Chunk 1 ---\n",
      "Artificial Intelligence (AI) is a branch of computer science focused on building smart machines. It has applications in a variety of fields, including healthcare, finance, and transportation.\n",
      "\n",
      "--- Sentence Chunk 2 ---\n",
      "LLMs like GPT-4 are examples of AI systems trained on large datasets. They are capable of understanding and generating human-like language.\n",
      "\n",
      "--- Sentence Chunk 3 ---\n",
      "However, due to memory constraints, text must be split into chunks. This process is known as chunking, and it ensures the model can process all input without being overloaded.\n",
      "\n",
      "--- Sentence Chunk 4 ---\n",
      "Various strategies exist for chunking, including fixed-length, sentence-based, and sliding windows. Choosing the right method depends on your use case.\n"
     ]
    }
   ],
   "source": [
    "# sentence-based chunking\n",
    "\n",
    "import re\n",
    "\n",
    "def sentence_chunks_simple(text, n_sentences=2):\n",
    "    # Simple sentence splitting using regex\n",
    "    sentences = re.split(r'[.!?]+', text.strip())\n",
    "    sentences = [s.strip() for s in sentences if s.strip()]\n",
    "    \n",
    "    chunks = []\n",
    "    for i in range(0, len(sentences), n_sentences):\n",
    "        chunk = '. '.join(sentences[i:i+n_sentences])\n",
    "        if chunk:\n",
    "            chunks.append(chunk + '.')\n",
    "    return chunks\n",
    "\n",
    "sentence_based = sentence_chunks_simple(sample_text, 2)\n",
    "for i, chunk in enumerate(sentence_based):\n",
    "    print(f\"\\n--- Sentence Chunk {i+1} ---\\n{chunk}\")"
   ]
  },
  {
   "cell_type": "code",
   "execution_count": 19,
   "id": "32629fcb",
   "metadata": {},
   "outputs": [
    {
     "name": "stdout",
     "output_type": "stream",
     "text": [
      "\n",
      "--- Sliding Chunk 1 ---\n",
      "Artificial Intelligence (AI) is a branch of computer science focused on building smart machines. It has applications in a variety\n",
      "\n",
      "--- Sliding Chunk 2 ---\n",
      "has applications in a variety of fields, including healthcare, finance, and transportation. LLMs like GPT-4 are examples of AI systems\n",
      "\n",
      "--- Sliding Chunk 3 ---\n",
      "are examples of AI systems trained on large datasets. They are capable of understanding and generating human-like language. However, due\n",
      "\n",
      "--- Sliding Chunk 4 ---\n",
      "generating human-like language. However, due to memory constraints, text must be split into chunks. This process is known as chunking,\n",
      "\n",
      "--- Sliding Chunk 5 ---\n",
      "process is known as chunking, and it ensures the model can process all input without being overloaded. Various strategies exist\n",
      "\n",
      "--- Sliding Chunk 6 ---\n",
      "being overloaded. Various strategies exist for chunking, including fixed-length, sentence-based, and sliding windows. Choosing the right method depends on your\n",
      "\n",
      "--- Sliding Chunk 7 ---\n",
      "right method depends on your use case.\n"
     ]
    }
   ],
   "source": [
    "def sliding_window_chunks(text, chunk_size=10, overlap=3):\n",
    "    words = text.split()  # split text into words\n",
    "    chunks = []\n",
    "\n",
    "    step = chunk_size - overlap  # how far to move for next chunk\n",
    "\n",
    "    for i in range(0, len(words), step):\n",
    "        chunk_words = words[i:i + chunk_size]  # take chunk_size words\n",
    "        chunk = ' '.join(chunk_words)  # join words back into a sentence\n",
    "        chunks.append(chunk)\n",
    "\n",
    "    return chunks\n",
    "\n",
    "sliding_chunks = sliding_window_chunks(sample_text, 20, 5)\n",
    "for i, chunk in enumerate(sliding_chunks):\n",
    "    print(f\"\\n--- Sliding Chunk {i+1} ---\\n{chunk}\")"
   ]
  },
  {
   "cell_type": "code",
   "execution_count": null,
   "id": "c1feecea",
   "metadata": {},
   "outputs": [],
   "source": []
  }
 ],
 "metadata": {
  "kernelspec": {
   "display_name": "base",
   "language": "python",
   "name": "python3"
  },
  "language_info": {
   "codemirror_mode": {
    "name": "ipython",
    "version": 3
   },
   "file_extension": ".py",
   "mimetype": "text/x-python",
   "name": "python",
   "nbconvert_exporter": "python",
   "pygments_lexer": "ipython3",
   "version": "3.12.7"
  }
 },
 "nbformat": 4,
 "nbformat_minor": 5
}
